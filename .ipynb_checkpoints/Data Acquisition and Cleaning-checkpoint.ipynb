{
 "cells": [
  {
   "cell_type": "markdown",
   "metadata": {},
   "source": [
    "\n",
    "__Data__\n"
   ]
  },
  {
   "cell_type": "markdown",
   "metadata": {},
   "source": [
    "In total we have 37 attributes but not all attributes are useful so we need to decide what to keep. Based on the problem definition, we will use the data which are;\n",
    "* Description of the general location of the collision.\n",
    "* A description of the weather conditions during the time of the collision.\n",
    "* The condition of the road during the collision.\n",
    "* The light conditions during the collision.\n",
    "* Whether or not speeding was a factor in the collision.\n",
    "* Category of junction at which collision took place.\n",
    "* The total number of people involved in the collision.\n",
    "* The number of vehicles involved in the collision.\n",
    "\n",
    "Additionally, we will use python packages to solve the problem like numpy, pandas, matplotlib sklearn etc."
   ]
  },
  {
   "cell_type": "code",
   "execution_count": null,
   "metadata": {},
   "outputs": [],
   "source": []
  }
 ],
 "metadata": {
  "kernelspec": {
   "display_name": "Python 3",
   "language": "python",
   "name": "python3"
  },
  "language_info": {
   "codemirror_mode": {
    "name": "ipython",
    "version": 3
   },
   "file_extension": ".py",
   "mimetype": "text/x-python",
   "name": "python",
   "nbconvert_exporter": "python",
   "pygments_lexer": "ipython3",
   "version": "3.8.3"
  }
 },
 "nbformat": 4,
 "nbformat_minor": 4
}
