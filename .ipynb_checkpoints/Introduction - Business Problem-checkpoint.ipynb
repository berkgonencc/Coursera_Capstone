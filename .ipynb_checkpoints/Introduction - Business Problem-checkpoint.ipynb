{
 "cells": [
  {
   "cell_type": "markdown",
   "metadata": {},
   "source": [
    "__Introduction__"
   ]
  },
  {
   "cell_type": "markdown",
   "metadata": {},
   "source": [
    " In this project, we will use the data to get information about the possibility of getting into a car accident and how severe it would be in the city of Seattle, US.\n",
    " \n",
    " The dataset which we will use includes all types of collisions. Collisions will display at the intersection or mid-block of a segment from 2004 to the present. We will try to identify the locations in which many accidents occur. Thus, we will find routes with a high probability of accidents, taking into account weather conditions and many other factors. In this way, the best possible path can be chosen by you to avoid accidents. \n",
    " \n",
    "\n",
    " "
   ]
  }
 ],
 "metadata": {
  "kernelspec": {
   "display_name": "Python 3",
   "language": "python",
   "name": "python3"
  },
  "language_info": {
   "codemirror_mode": {
    "name": "ipython",
    "version": 3
   },
   "file_extension": ".py",
   "mimetype": "text/x-python",
   "name": "python",
   "nbconvert_exporter": "python",
   "pygments_lexer": "ipython3",
   "version": "3.8.3"
  }
 },
 "nbformat": 4,
 "nbformat_minor": 4
}
